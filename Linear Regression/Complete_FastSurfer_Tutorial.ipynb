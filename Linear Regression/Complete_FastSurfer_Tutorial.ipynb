{
 "cells": [
  {
   "cell_type": "code",
   "execution_count": null,
   "metadata": {
    "cellView": "form",
    "id": "FGA_0vanBn6_"
   },
   "outputs": [
    {
     "ename": "",
     "evalue": "",
     "output_type": "error",
     "traceback": [
      "\u001b[1;31mFailed to start the Kernel. \n",
      "\u001b[1;31mAttributeError: module 'jedi' has no attribute 'settings'. \n",
      "\u001b[1;31mView Jupyter <a href='command:jupyter.viewOutput'>log</a> for further details."
     ]
    }
   ],
   "source": [
    "#@title Select and visualize your structures of interest in 3D by using the dropdown menu and clicking \"Run Interact\". \n",
    "from ipywidgets import widgets\n",
    "import matplotlib.pyplot as plt\n",
    "import nibabel as nib\n",
    "import numpy as np\n",
    "#from mpl_toolkits.mplot3d.art3d import Poly3DCollection\n",
    "from skimage import measure\n",
    "\n",
    "pred_data = nib.load('MRI_dataset/Segmented imgs/aparc.DKTatlas aseg.deep.mgz').get_fdata()\n",
    "\n",
    "labels = [\n",
    "'Lateral-Ventricle',\n",
    "'Inf-Lat-Vent',\n",
    "'Cerebellum-White-Matter',\n",
    "'Cerebellum-Cortex',\n",
    "'Thalamus-Proper',\n",
    "'Caudate',\n",
    "'Putamen',\n",
    "'Pallidum',\n",
    "'3rd-Ventricle',\n",
    "'4th-Ventricle',\n",
    "'Brain-Stem',\n",
    "'Hippocampus',\n",
    "'Amygdala',\n",
    "'CSF',\n",
    "'Accumbens-area',\n",
    "'VentralDC',\n",
    "'choroid-plexus',\n",
    "'caudalanteriorcingulate',\n",
    "'caudalmiddlefrontal',\n",
    "'cuneus',\n",
    "'entorhinal',\n",
    "'fusiform',\n",
    "'inferiorparietal',\n",
    "'inferiortemporal',\n",
    "'isthmuscingulate',\n",
    "'lateraloccipital',\n",
    "'lateralorbitofrontal',\n",
    "'lingual',\n",
    "'medialorbitofrontal',\n",
    "'middletemporal',\n",
    "'parahippocampal',\n",
    "'paracentral',\n",
    "'parsopercularis',\n",
    "'parsorbitalis',\n",
    "'parstriangularis',\n",
    "'pericalcarine',\n",
    "'postcentral',\n",
    "'posteriorcingulate',\n",
    "'precentral',\n",
    "'precuneus',\n",
    "'rostralanteriorcingulate',\n",
    "'rostralmiddlefrontal',\n",
    "'superiorfrontal',\n",
    "'superiorparietal',\n",
    "'superiortemporal',\n",
    "'supramarginal',\n",
    "'transversetemporal',\n",
    "'insula']\n",
    "\n",
    "labels_lookup = {\n",
    "'Left-Lateral-Ventricle': 4,\n",
    "'Left-Inf-Lat-Vent': 5,\n",
    "'Left-Cerebellum-White-Matter': 7,\n",
    "'Left-Cerebellum-Cortex': 8,\n",
    "'Left-Thalamus-Proper': 10,\n",
    "'Left-Caudate': 11,\n",
    "'Left-Putamen': 12,\n",
    "'Left-Pallidum': 13,\n",
    "'Left-3rd-Ventricle': 14,\n",
    "'Left-4th-Ventricle': 15,\n",
    "'Left-Brain-Stem': 16,\n",
    "'Left-Hippocampus': 17,\n",
    "'Left-Amygdala': 18,\n",
    "'Left-CSF': 24,\n",
    "'Left-Accumbens-area': 26,\n",
    "'Left-VentralDC': 28,\n",
    "'Left-choroid-plexus': 31,\n",
    "'Right-Lateral-Ventricle': 43,\n",
    "'Right-Inf-Lat-Vent': 44,\n",
    "'Right-Cerebellum-White-Matter': 46,\n",
    "'Right-Cerebellum-Cortex': 47,\n",
    "'Right-Thalamus-Proper': 49,\n",
    "'Right-Caudate': 50,\n",
    "'Right-Putamen': 51,\n",
    "'Right-Pallidum': 52,\n",
    "'Right-Hippocampus': 53,\n",
    "'Right-Amygdala': 54,\n",
    "'Right-Accumbens-area': 58,\n",
    "'Right-VentralDC': 60,\n",
    "'Right-choroid-plexus': 63,\n",
    "'Right-3rd-Ventricle': 14,\n",
    "'Right-4th-Ventricle': 15,\n",
    "'Right-Brain-Stem': 16,\n",
    "'Right-CSF': 24,\n",
    "'ctx-lh-caudalanteriorcingulate': 1002,\n",
    "'ctx-lh-caudalmiddlefrontal': 1003,\n",
    "'ctx-lh-cuneus': 1005,\n",
    "'ctx-lh-entorhinal': 1006,\n",
    "'ctx-lh-fusiform': 1007,\n",
    "'ctx-lh-inferiorparietal': 1008,\n",
    "'ctx-lh-inferiortemporal': 1009,\n",
    "'ctx-lh-isthmuscingulate': 1010,\n",
    "'ctx-lh-lateraloccipital': 1011,\n",
    "'ctx-lh-lateralorbitofrontal': 1012,\n",
    "'ctx-lh-lingual': 1013,\n",
    "'ctx-lh-medialorbitofrontal': 1014,\n",
    "'ctx-lh-middletemporal': 1015,\n",
    "'ctx-lh-parahippocampal': 1016,\n",
    "'ctx-lh-paracentral': 1017,\n",
    "'ctx-lh-parsopercularis': 1018,\n",
    "'ctx-lh-parsorbitalis': 1019,\n",
    "'ctx-lh-parstriangularis': 1020,\n",
    "'ctx-lh-pericalcarine': 1021,\n",
    "'ctx-lh-postcentral': 1022,\n",
    "'ctx-lh-posteriorcingulate': 1023,\n",
    "'ctx-lh-precentral': 1024,\n",
    "'ctx-lh-precuneus': 1025,\n",
    "'ctx-lh-rostralanteriorcingulate': 1026,\n",
    "'ctx-lh-rostralmiddlefrontal': 1027,\n",
    "'ctx-lh-superiorfrontal': 1028,\n",
    "'ctx-lh-superiorparietal': 1029,\n",
    "'ctx-lh-superiortemporal': 1030,\n",
    "'ctx-lh-supramarginal': 1031,\n",
    "'ctx-lh-transversetemporal': 1034,\n",
    "'ctx-lh-insula': 1035,\n",
    "'ctx-rh-caudalanteriorcingulate': 2002,\n",
    "'ctx-rh-caudalmiddlefrontal': 2003,\n",
    "'ctx-rh-cuneus': 2005,\n",
    "'ctx-rh-entorhinal': 2006,\n",
    "'ctx-rh-fusiform': 2007,\n",
    "'ctx-rh-inferiorparietal': 2008,\n",
    "'ctx-rh-inferiortemporal': 2009,\n",
    "'ctx-rh-isthmuscingulate': 2010,\n",
    "'ctx-rh-lateraloccipital': 2011,\n",
    "'ctx-rh-lateralorbitofrontal': 2012,\n",
    "'ctx-rh-lingual': 2013,\n",
    "'ctx-rh-medialorbitofrontal': 2014,\n",
    "'ctx-rh-middletemporal': 2015,\n",
    "'ctx-rh-parahippocampal': 2016,\n",
    "'ctx-rh-paracentral': 2017,\n",
    "'ctx-rh-parsopercularis': 2018,\n",
    "'ctx-rh-parsorbitalis': 2019,\n",
    "'ctx-rh-parstriangularis': 2020,\n",
    "'ctx-rh-pericalcarine': 2021,\n",
    "'ctx-rh-postcentral': 2022,\n",
    "'ctx-rh-posteriorcingulate': 2023,\n",
    "'ctx-rh-precentral': 2024,\n",
    "'ctx-rh-precuneus': 2025,\n",
    "'ctx-rh-rostralanteriorcingulate': 2026,\n",
    "'ctx-rh-rostralmiddlefrontal': 2027,\n",
    "'ctx-rh-superiorfrontal': 2028,\n",
    "'ctx-rh-superiorparietal': 2029,\n",
    "'ctx-rh-superiortemporal': 2030,\n",
    "'ctx-rh-supramarginal': 2031,\n",
    "'ctx-rh-transversetemporal': 2034,\n",
    "'ctx-rh-insula': 2035}\n",
    "\n",
    "def label_lookups(structure, hemi):\n",
    "  # determine what to plot\n",
    "  if structure[0].isupper():\n",
    "    if hemi == \"left\":\n",
    "      label = labels_lookup[\"Left-\" + structure]\n",
    "    elif hemi == \"right\":\n",
    "      label = labels_lookup[\"Right-\" + structure]\n",
    "    else:\n",
    "      label = [labels_lookup[\"Left-\" + structure], labels_lookup[\"Right-\" + structure]]\n",
    "  else:\n",
    "    if hemi == \"left\":\n",
    "      label = labels_lookup[\"ctx-lh-\" + structure]\n",
    "    elif hemi == \"right\":\n",
    "      label = labels_lookup[\"ctx-rh-\" + structure]\n",
    "    else:\n",
    "      label = [labels_lookup[\"ctx-lh-\" + structure], labels_lookup[\"ctx-rh-\" + structure]]\n",
    "  return label\n",
    "\n",
    "@widgets.interact_manual(\n",
    "    hemisphere=['left', 'right', 'both'], structure=labels)\n",
    "def plot_3d_plotly_shape(structure, hemisphere, show_mesh=True, crop=True, grid=True):\n",
    "  print(structure, hemisphere)\n",
    "  import plotly.graph_objects as go\n",
    "  label = label_lookups(structure, hemisphere)\n",
    "  test_cond = np.in1d(pred_data, label).reshape(pred_data.shape)\n",
    "  roi = np.where(test_cond, 1, 0)\n",
    "  vert_p, faces_p, normals_p, values_p = measure.marching_cubes(roi, 0, spacing=(1, 1, 1))\n",
    "\n",
    "  fig = go.Figure(data=[go.Mesh3d(\n",
    "        x=vert_p[:, 0],\n",
    "        y=vert_p[:, 1],\n",
    "        z=vert_p[:, 2],\n",
    "        # i, j and k give the vertices of triangles\n",
    "        # here we represent the 4 triangles of the tetrahedron surface\n",
    "        i=faces_p[:, 0],\n",
    "        j=faces_p[:, 1],\n",
    "        k=faces_p[:, 2],\n",
    "        name='y',\n",
    "        showscale=True\n",
    "    )]\n",
    "  )\n",
    "\n",
    "  if show_mesh:\n",
    "    #plot surface triangulation\n",
    "    tri_vertices = vert_p[faces_p]\n",
    "    Xe = []\n",
    "    Ye = []\n",
    "    Ze = []\n",
    "    \n",
    "    for T in tri_vertices:\n",
    "      Xe += [T[k%3][0] for k in range(4)] + [ None]\n",
    "      Ye += [T[k%3][1] for k in range(4)] + [ None]\n",
    "      Ze += [T[k%3][2] for k in range(4)] + [ None]\n",
    "       \n",
    "    fig.add_trace(go.Scatter3d(x=Xe,\n",
    "                     y=Ye,\n",
    "                     z=Ze,\n",
    "                     mode='lines',\n",
    "                     name='',\n",
    "                     line=dict(color= 'rgb(40,40,40)', width=0.5)))\n",
    "  if crop:\n",
    "    scale_min = np.min(vert_p, axis=0)\n",
    "    scale_max = np.max(vert_p, axis=0)\n",
    "  else:\n",
    "    scale_min = [0, 0, 0]\n",
    "    scale_max = pred_data.shape\n",
    "  fig.update_layout(\n",
    "    scene = dict(aspectratio=dict(x=1, y=1, z=1),\n",
    "        xaxis = dict(range=[scale_min[0], scale_max[0]], visible=grid),\n",
    "        yaxis = dict(range=[scale_min[1], scale_max[1]], visible=grid),\n",
    "        zaxis = dict(range=[scale_min[2], scale_max[2]], visible=grid),) \n",
    "    )\n",
    "\n",
    "  fig.show()\n",
    "\n"
   ]
  },
  {
   "cell_type": "code",
   "execution_count": 3,
   "metadata": {},
   "outputs": [],
   "source": [
    "label = label_lookups(\"Lateral-Ventricle\", \"both\")\n",
    "test_cond = np.in1d(pred_data, label).reshape(pred_data.shape)\n",
    "roi = np.where(test_cond, 1, 0)\n",
    "vert_p, faces_p, normals_p, values_p = measure.marching_cubes(roi, 0, spacing=(1, 1, 1))"
   ]
  },
  {
   "cell_type": "code",
   "execution_count": 41,
   "metadata": {},
   "outputs": [],
   "source": [
    "import SimpleITK as sitk\n",
    "\n",
    "# Load the image\n",
    "image_path = '/Users/sampathrapuri/Desktop/JHU/CS_Coursework/Medical Image Analysis/Project2/t1w/subject_10_t1w.nii.gz'  # Adjust path to your image file\n",
    "image = sitk.ReadImage(image_path)\n",
    "\n",
    "# Convert to a numpy array for manipulation\n",
    "array = sitk.GetArrayFromImage(image)\n"
   ]
  },
  {
   "cell_type": "code",
   "execution_count": 63,
   "metadata": {},
   "outputs": [],
   "source": [
    "import numpy as np\n",
    "from skimage.measure import label, regionprops\n",
    "\n",
    "# Threshold the image to isolate the skull (adjust threshold based on your image contrast)\n",
    "# This is just one simple way; more sophisticated methods might be needed based on image quality.\n",
    "threshold_value = array.max() * 0.495  # Example threshold at 50% of max intensity\n",
    "skull_mask = array > threshold_value\n",
    "\n",
    "# You might need morphological operations to clean up the mask\n",
    "from scipy.ndimage import binary_closing, generate_binary_structure\n",
    "\n",
    "struct = generate_binary_structure(3, 2)  # 3D structuring element\n",
    "cleaned_mask = binary_closing(skull_mask, structure=struct)\n",
    "\n",
    "\n",
    "# Label the components\n",
    "labeled_mask = label(cleaned_mask)\n",
    "\n",
    "# Extract properties of labeled regions\n",
    "regions = regionprops(labeled_mask)\n",
    "\n",
    "# Find the largest region based on area\n",
    "largest_region = max(regions, key=lambda r: r.area)\n",
    "\n",
    "# Create a mask for the largest region\n",
    "cleaned_mask = labeled_mask == largest_region.label"
   ]
  },
  {
   "cell_type": "code",
   "execution_count": 64,
   "metadata": {},
   "outputs": [
    {
     "data": {
      "application/vnd.jupyter.widget-view+json": {
       "model_id": "e4782d6f7ff547a88eb2053909dac071",
       "version_major": 2,
       "version_minor": 0
      },
      "text/plain": [
       "interactive(children=(IntSlider(value=75, description='slice_index', max=149), Output()), _dom_classes=('widge…"
      ]
     },
     "metadata": {},
     "output_type": "display_data"
    }
   ],
   "source": [
    "\n",
    "from ipywidgets import interact, IntSlider\n",
    "\n",
    "image_array = array\n",
    "mask_array = cleaned_mask\n",
    "def show_slice(slice_index):\n",
    "    plt.figure(figsize=(10, 10))\n",
    "    plt.imshow(image_array[slice_index], cmap='gray', interpolation='none')\n",
    "    plt.imshow(np.ma.masked_where(mask_array[slice_index] == False, mask_array[slice_index]), cmap='autumn', alpha=0.5)\n",
    "    plt.title(f'Slice {slice_index}')\n",
    "    plt.axis('off')\n",
    "    plt.show()\n",
    "\n",
    "interact(show_slice, slice_index=IntSlider(min=0, max=image_array.shape[0] - 1, step=1, value=image_array.shape[0] // 2));\n"
   ]
  },
  {
   "cell_type": "code",
   "execution_count": 23,
   "metadata": {},
   "outputs": [],
   "source": [
    "import nibabel\n",
    "file = nibabel.load(\"/Users/sampathrapuri/Desktop/JHU/CS_Coursework/Medical Image Analysis/Project2/t1w/subject_10_t1w.nii.gz\")\n"
   ]
  },
  {
   "cell_type": "code",
   "execution_count": 32,
   "metadata": {},
   "outputs": [],
   "source": [
    "x,y,z = np.where(test_cond == 1)"
   ]
  },
  {
   "cell_type": "code",
   "execution_count": 36,
   "metadata": {},
   "outputs": [
    {
     "name": "stdout",
     "output_type": "stream",
     "text": [
      "Maximum distance: 69.1158447825099 between points [105  93] and [109 162] on slice 86\n"
     ]
    }
   ],
   "source": [
    "# Get the indices where the mask is 1\n",
    "y_indices, x_indices, z_indices = np.where(test_cond == 1)\n",
    "# Initialize a dictionary to store points by z-index\n",
    "points_by_z = {}\n",
    "\n",
    "# Group points by their z-index\n",
    "for x, y, z in zip(x_indices, y_indices, z_indices):\n",
    "    if z not in points_by_z:\n",
    "        points_by_z[z] = []\n",
    "    points_by_z[z].append((x, y))\n",
    "\n",
    "# Initialize variables to track the maximum distance and corresponding points across all slices\n",
    "global_max_distance = 0\n",
    "global_point1 = None\n",
    "global_point2 = None\n",
    "global_z = None\n",
    "\n",
    "# Calculate distances within each z-slice\n",
    "for z, points in points_by_z.items():\n",
    "    if len(points) > 1:  # Only calculate if there are at least two points\n",
    "        points_array = np.array(points)\n",
    "        distances = distance_matrix(points_array, points_array)\n",
    "        max_distance = np.max(distances)\n",
    "        if max_distance > global_max_distance:\n",
    "            max_distance_indices = np.unravel_index(np.argmax(distances), distances.shape)\n",
    "            global_max_distance = max_distance\n",
    "            global_point1 = points_array[max_distance_indices[0]]\n",
    "            global_point2 = points_array[max_distance_indices[1]]\n",
    "            global_z = z\n",
    "\n",
    "# Output the results\n",
    "if global_point1 is not None and global_point2 is not None:\n",
    "    print(f\"Maximum distance: {global_max_distance} between points {global_point1} and {global_point2} on slice {global_z}\")\n",
    "else:\n",
    "    print(\"No valid points found across slices with more than one point.\")"
   ]
  },
  {
   "cell_type": "code",
   "execution_count": 67,
   "metadata": {},
   "outputs": [
    {
     "name": "stdout",
     "output_type": "stream",
     "text": [
      "Maximum distance: 237.22773868163057 between points [ 1 36] and [232  90] on slice 152\n"
     ]
    }
   ],
   "source": [
    "# Get the indices where the mask is 1\n",
    "y_indices, x_indices, z_indices = np.where(cleaned_mask == True)\n",
    "# Initialize a dictionary to store points by z-index\n",
    "points_by_z = {}\n",
    "\n",
    "# Group points by their z-index\n",
    "for x, y, z in zip(x_indices, y_indices, z_indices):\n",
    "    if z not in points_by_z:\n",
    "        points_by_z[z] = []\n",
    "    points_by_z[z].append((x, y))\n",
    "\n",
    "# Initialize variables to track the maximum distance and corresponding points across all slices\n",
    "global_max_distance = 0\n",
    "global_point1 = None\n",
    "global_point2 = None\n",
    "global_z = None\n",
    "\n",
    "# Calculate distances within each z-slice\n",
    "for z, points in points_by_z.items():\n",
    "    if len(points) > 1:  # Only calculate if there are at least two points\n",
    "        points_array = np.array(points)\n",
    "        distances = distance_matrix(points_array, points_array)\n",
    "        max_distance = np.max(distances)\n",
    "        if max_distance > global_max_distance:\n",
    "            max_distance_indices = np.unravel_index(np.argmax(distances), distances.shape)\n",
    "            global_max_distance = max_distance\n",
    "            global_point1 = points_array[max_distance_indices[0]]\n",
    "            global_point2 = points_array[max_distance_indices[1]]\n",
    "            global_z = z\n",
    "\n",
    "# Output the results\n",
    "if global_point1 is not None and global_point2 is not None:\n",
    "    print(f\"Maximum distance: {global_max_distance} between points {global_point1} and {global_point2} on slice {global_z}\")\n",
    "else:\n",
    "    print(\"No valid points found across slices with more than one point.\")"
   ]
  },
  {
   "cell_type": "code",
   "execution_count": 68,
   "metadata": {},
   "outputs": [
    {
     "data": {
      "text/plain": [
       "0.2913480740768946"
      ]
     },
     "execution_count": 68,
     "metadata": {},
     "output_type": "execute_result"
    }
   ],
   "source": [
    "69.1158447825099/237.22773868163057"
   ]
  },
  {
   "cell_type": "code",
   "execution_count": 38,
   "metadata": {},
   "outputs": [],
   "source": [
    "brain_mask = nibabel.load(\"/Users/sampathrapuri/Desktop/fast/test.nii.gz\")\n",
    "brain_mask.shape\n",
    "point1, point2, max_distance\n",
    "pred_data.shape"
   ]
  },
  {
   "cell_type": "code",
   "execution_count": 40,
   "metadata": {},
   "outputs": [
    {
     "data": {
      "text/plain": [
       "(256, 256, 150)"
      ]
     },
     "execution_count": 40,
     "metadata": {},
     "output_type": "execute_result"
    }
   ],
   "source": [
    "brain_mask.shape"
   ]
  },
  {
   "cell_type": "code",
   "execution_count": 34,
   "metadata": {},
   "outputs": [
    {
     "data": {
      "text/plain": [
       "(array([103,  93]), array([111, 162]), 69.46221994724903)"
      ]
     },
     "execution_count": 34,
     "metadata": {},
     "output_type": "execute_result"
    }
   ],
   "source": [
    "point1, point2, max_distance"
   ]
  },
  {
   "cell_type": "code",
   "execution_count": 27,
   "metadata": {},
   "outputs": [
    {
     "data": {
      "text/plain": [
       "(256, 256, 256)"
      ]
     },
     "execution_count": 27,
     "metadata": {},
     "output_type": "execute_result"
    }
   ],
   "source": [
    "pred_data.shape"
   ]
  },
  {
   "cell_type": "code",
   "execution_count": 12,
   "metadata": {},
   "outputs": [
    {
     "name": "stdout",
     "output_type": "stream",
     "text": [
      "Defaulting to user installation because normal site-packages is not writeable\n",
      "Requirement already satisfied: nbformat in /Users/sampathrapuri/Library/Python/3.9/lib/python/site-packages (5.10.4)\n",
      "Requirement already satisfied: fastjsonschema>=2.15 in /Users/sampathrapuri/Library/Python/3.9/lib/python/site-packages (from nbformat) (2.19.1)\n",
      "Requirement already satisfied: jsonschema>=2.6 in /Users/sampathrapuri/Library/Python/3.9/lib/python/site-packages (from nbformat) (4.21.1)\n",
      "Requirement already satisfied: jupyter-core!=5.0.*,>=4.12 in /Users/sampathrapuri/Library/Python/3.9/lib/python/site-packages (from nbformat) (5.3.1)\n",
      "Requirement already satisfied: traitlets>=5.1 in /Users/sampathrapuri/Library/Python/3.9/lib/python/site-packages (from nbformat) (5.9.0)\n",
      "Requirement already satisfied: attrs>=22.2.0 in /Users/sampathrapuri/Library/Python/3.9/lib/python/site-packages (from jsonschema>=2.6->nbformat) (23.2.0)\n",
      "Requirement already satisfied: jsonschema-specifications>=2023.03.6 in /Users/sampathrapuri/Library/Python/3.9/lib/python/site-packages (from jsonschema>=2.6->nbformat) (2023.12.1)\n",
      "Requirement already satisfied: referencing>=0.28.4 in /Users/sampathrapuri/Library/Python/3.9/lib/python/site-packages (from jsonschema>=2.6->nbformat) (0.35.0)\n",
      "Requirement already satisfied: rpds-py>=0.7.1 in /Users/sampathrapuri/Library/Python/3.9/lib/python/site-packages (from jsonschema>=2.6->nbformat) (0.18.0)\n",
      "Requirement already satisfied: platformdirs>=2.5 in /Users/sampathrapuri/Library/Python/3.9/lib/python/site-packages (from jupyter-core!=5.0.*,>=4.12->nbformat) (3.9.1)\n",
      "\n",
      "\u001b[1m[\u001b[0m\u001b[34;49mnotice\u001b[0m\u001b[1;39;49m]\u001b[0m\u001b[39;49m A new release of pip is available: \u001b[0m\u001b[31;49m23.3.2\u001b[0m\u001b[39;49m -> \u001b[0m\u001b[32;49m24.0\u001b[0m\n",
      "\u001b[1m[\u001b[0m\u001b[34;49mnotice\u001b[0m\u001b[1;39;49m]\u001b[0m\u001b[39;49m To update, run: \u001b[0m\u001b[32;49m/Library/Developer/CommandLineTools/usr/bin/python3 -m pip install --upgrade pip\u001b[0m\n"
     ]
    }
   ],
   "source": [
    "!pip install nbformat"
   ]
  }
 ],
 "metadata": {
  "accelerator": "GPU",
  "colab": {
   "collapsed_sections": [
    "I4gAXjWbtZJl",
    "Vtvpt98OuGPC",
    "WGLkCHvZuP3o",
    "nde66Pz9uwU7",
    "u2hcyiOb1lCD",
    "KXOUZqy1vDGX",
    "ZXFhCKTzvDGg",
    "t3zO-rHTvDGg",
    "nxRXDpFovDGh",
    "61KeLNjTvDGh",
    "0nbQIUMlXQ-g"
   ],
   "provenance": []
  },
  "kernelspec": {
   "display_name": "Python 3 (ipykernel)",
   "language": "python",
   "name": "python3"
  },
  "language_info": {
   "codemirror_mode": {
    "name": "ipython",
    "version": 3
   },
   "file_extension": ".py",
   "mimetype": "text/x-python",
   "name": "python",
   "nbconvert_exporter": "python",
   "pygments_lexer": "ipython3",
   "version": "3.10.14"
  }
 },
 "nbformat": 4,
 "nbformat_minor": 0
}
