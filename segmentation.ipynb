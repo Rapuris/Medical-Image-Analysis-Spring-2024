{
 "cells": [
  {
   "cell_type": "code",
   "execution_count": 5,
   "metadata": {},
   "outputs": [
    {
     "ename": "ModuleNotFoundError",
     "evalue": "No module named 'fastsurfer'",
     "output_type": "error",
     "traceback": [
      "\u001b[1;31m---------------------------------------------------------------------------\u001b[0m",
      "\u001b[1;31mModuleNotFoundError\u001b[0m                       Traceback (most recent call last)",
      "Cell \u001b[1;32mIn[5], line 1\u001b[0m\n\u001b[1;32m----> 1\u001b[0m \u001b[38;5;28;01mfrom\u001b[39;00m \u001b[38;5;21;01mfastsurfer\u001b[39;00m \u001b[38;5;28;01mimport\u001b[39;00m FastSurferCNN\n\u001b[0;32m      3\u001b[0m \u001b[38;5;66;03m# Path to your MRI file and output directory\u001b[39;00m\n\u001b[0;32m      4\u001b[0m mri_path \u001b[38;5;241m=\u001b[39m \u001b[38;5;124m\"\u001b[39m\u001b[38;5;124mmni_atlas\u001b[39m\u001b[38;5;124m\\\u001b[39m\u001b[38;5;124mmni_icbm152_t1_tal_nlin_sym_09c_pow2.nii.gz\u001b[39m\u001b[38;5;124m\"\u001b[39m\n",
      "\u001b[1;31mModuleNotFoundError\u001b[0m: No module named 'fastsurfer'"
     ]
    }
   ],
   "source": [
    "from fastsurfer import FastSurferCNN\n",
    "\n",
    "# Path to your MRI file and output directory\n",
    "mri_path = \"mni_atlas\\mni_icbm152_t1_tal_nlin_sym_09c_pow2.nii.gz\"\n",
    "output_dir = \"path/to/output_directory\"\n",
    "\n",
    "# Initialize FastSurferCNN\n",
    "fastsurfer = FastSurferCNN()\n",
    "\n",
    "# Generate HDF5 from the MRI file (this step may need to be adjusted based on specific documentation)\n",
    "fastsurfer.generate_hdf5(mri_path, output_dir)\n",
    "\n",
    "# Download necessary model checkpoints\n",
    "fastsurfer.download_checkpoints(output_dir)\n",
    "\n",
    "# Run prediction\n",
    "segmentation = fastsurfer.run_prediction(mri_path, output_dir)\n",
    "\n",
    "# Quick quality check\n",
    "fastsurfer.quick_qc(segmentation, output_dir)\n",
    "\n",
    "# Save or process the segmentation results as needed\n"
   ]
  }
 ],
 "metadata": {
  "kernelspec": {
   "display_name": "Python 3",
   "language": "python",
   "name": "python3"
  },
  "language_info": {
   "codemirror_mode": {
    "name": "ipython",
    "version": 3
   },
   "file_extension": ".py",
   "mimetype": "text/x-python",
   "name": "python",
   "nbconvert_exporter": "python",
   "pygments_lexer": "ipython3",
   "version": "3.11.8"
  }
 },
 "nbformat": 4,
 "nbformat_minor": 2
}
