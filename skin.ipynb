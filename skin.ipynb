{
 "cells": [
  {
   "cell_type": "code",
   "execution_count": 1,
   "metadata": {},
   "outputs": [
    {
     "name": "stdout",
     "output_type": "stream",
     "text": [
      "Total unique combinations of lesion and asymmetry: 8\n",
      "{('Atypical Nevus', 'Fully Symmetric'), ('Melanoma', 'Fully Symmetric'), ('Common Nevus', 'Symmetric in 1 axes'), ('Melanoma', 'Fully Asymmetric'), ('Common Nevus', 'Fully Asymmetric'), ('Atypical Nevus', 'Fully Asymmetric'), ('Atypical Nevus', 'Symmetric in 1 axes'), ('Common Nevus', 'Fully Symmetric')}\n"
     ]
    }
   ],
   "source": [
    "import os\n",
    "import json\n",
    "from collections import defaultdict\n",
    "\n",
    "# Path to the directory you want to search\n",
    "directory_path = './'\n",
    "\n",
    "# This will hold the count of unique combinations\n",
    "combinations = defaultdict(int)\n",
    "combination_set = set()\n",
    "# Loop through each folder, subfolder, and file\n",
    "for root, dirs, files in os.walk(directory_path):\n",
    "    for file in files:\n",
    "        # Check if the file is a JSON file\n",
    "        if file.endswith('.json'):\n",
    "            json_path = os.path.join(root, file)\n",
    "            # Open and read the JSON file\n",
    "            with open(json_path, 'r') as json_file:\n",
    "                data = json.load(json_file)\n",
    "                # Extract the lesion and asymmetry values\n",
    "                lesion_class = data.get(\"Lesion Class\")\n",
    "                asymmetry_label = data.get(\"Asymmetry Label\")\n",
    "                if lesion_class and asymmetry_label:\n",
    "                    # Increment the count for this combination\n",
    "                    combination_set.add((lesion_class, asymmetry_label))\n",
    "                    combinations[(lesion_class, asymmetry_label)] += 1\n",
    "\n",
    "# Now combinations dictionary has all unique combinations and their counts\n",
    "total_combinations = len(combinations)\n",
    "print(f'Total unique combinations of lesion and asymmetry: {total_combinations}')\n",
    "print(combination_set)\n",
    "# If you want to see the combinations,\n"
   ]
  },
  {
   "cell_type": "markdown",
   "metadata": {},
   "source": []
  },
  {
   "cell_type": "code",
   "execution_count": 3,
   "metadata": {},
   "outputs": [],
   "source": [
    "import cv2 \n",
    "import numpy as np \n",
    "import matplotlib.pyplot as plt "
   ]
  },
  {
   "cell_type": "code",
   "execution_count": null,
   "metadata": {},
   "outputs": [],
   "source": []
  }
 ],
 "metadata": {
  "kernelspec": {
   "display_name": "Python 3.9.12 ('MIA_env': venv)",
   "language": "python",
   "name": "python3"
  },
  "language_info": {
   "codemirror_mode": {
    "name": "ipython",
    "version": 3
   },
   "file_extension": ".py",
   "mimetype": "text/x-python",
   "name": "python",
   "nbconvert_exporter": "python",
   "pygments_lexer": "ipython3",
   "version": "3.9.12"
  },
  "vscode": {
   "interpreter": {
    "hash": "98f5dee134340839dacd4b28440ae351943f6a539fe837a389677fd8fe6e9660"
   }
  }
 },
 "nbformat": 4,
 "nbformat_minor": 2
}
