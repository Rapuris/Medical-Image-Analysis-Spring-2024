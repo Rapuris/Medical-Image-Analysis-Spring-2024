{
 "cells": [
  {
   "cell_type": "code",
   "execution_count": 8,
   "metadata": {},
   "outputs": [
    {
     "name": "stdout",
     "output_type": "stream",
     "text": [
      "Total unique combinations of lesion and asymmetry: 8\n",
      "{('Atypical Nevus', 'Symmetric in 1 axes'), ('Atypical Nevus', 'Fully Symmetric'), ('Common Nevus', 'Fully Asymmetric'), ('Melanoma', 'Fully Asymmetric'), ('Melanoma', 'Fully Symmetric'), ('Atypical Nevus', 'Fully Asymmetric'), ('Common Nevus', 'Symmetric in 1 axes'), ('Common Nevus', 'Fully Symmetric')}\n"
     ]
    }
   ],
   "source": [
    "import os\n",
    "import json\n",
    "from collections import defaultdict\n",
    "\n",
    "# Path to the directory you want to search\n",
    "directory_path = './'\n",
    "\n",
    "# This will hold the count of unique combinations\n",
    "combinations = defaultdict(int)\n",
    "combination_set = set()\n",
    "# Loop through each folder, subfolder, and file\n",
    "for root, dirs, files in os.walk(directory_path):\n",
    "    for file in files:\n",
    "        # Check if the file is a JSON file\n",
    "        if file.endswith('.json'):\n",
    "            json_path = os.path.join(root, file)\n",
    "            # Open and read the JSON file\n",
    "            with open(json_path, 'r') as json_file:\n",
    "                data = json.load(json_file)\n",
    "                # Extract the lesion and asymmetry values\n",
    "                lesion_class = data.get(\"Lesion Class\")\n",
    "                asymmetry_label = data.get(\"Asymmetry Label\")\n",
    "                if lesion_class and asymmetry_label:\n",
    "                    # Increment the count for this combination\n",
    "                    combination_set.add((lesion_class, asymmetry_label))\n",
    "                    combinations[(lesion_class, asymmetry_label)] += 1\n",
    "\n",
    "# Now combinations dictionary has all unique combinations and their counts\n",
    "total_combinations = len(combinations)\n",
    "print(f'Total unique combinations of lesion and asymmetry: {total_combinations}')\n",
    "print(combination_set)\n",
    "# If you want to see the combinations,\n"
   ]
  }
 ],
 "metadata": {
  "kernelspec": {
   "display_name": "Python 3",
   "language": "python",
   "name": "python3"
  },
  "language_info": {
   "codemirror_mode": {
    "name": "ipython",
    "version": 3
   },
   "file_extension": ".py",
   "mimetype": "text/x-python",
   "name": "python",
   "nbconvert_exporter": "python",
   "pygments_lexer": "ipython3",
   "version": "3.9.6"
  }
 },
 "nbformat": 4,
 "nbformat_minor": 2
}
